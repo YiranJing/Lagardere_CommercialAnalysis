{
 "cells": [
  {
   "cell_type": "markdown",
   "metadata": {},
   "source": [
    "# Compare Inventory ananlysis results in different period\n",
    "1. Find diffence bet two distribution reports of store 108.\n",
    "2. Check robust. (How many common SKU are there). \n",
    "\n",
    "### Output \n",
    "path `../data/Output_Sep_108/fullMonthAllPeriodSKU.csv`\n",
    "\n",
    "#### dataset required before run this notebook: \n",
    "- `Output_Sep_108`: **Rename** output folder of 108 store (Sep-Nov)\n",
    "- `Output_July_108`: **Rename** output folder of 108 store (July-Sep)\n",
    "\n",
    "\n",
    "## Questions:\n",
    "### Distrubution report\n",
    "1. How many (%) SKU has different facing or capacity in these two period?\n",
    "   - 125/679 = **18%**\n",
    "1. what reason leads to adjust in distribution report?\n",
    "\n",
    "### Full Month SKU\n",
    "1. The percentage of SKUs (full month), in both period? \n",
    "   - 74/110 = **67%**\n",
    "2. **Does fullmonth SKU (based on July-Sep) capacity decrease in new distribution report?**\n",
    "   - There are 55 SKU's capacity decrease from July to Sep, \n",
    "      1. only 8 of them are shown in fullMonthSKU in July\n",
    "      2. 7 of them are shown in fullMonthSKU in two period.\n",
    "   - (`Incorrect decision`): There are 68 SKU's capacity increase from July to Sep, \n",
    "      1. 17 of them are shown in fullMonthSKU in July. \n",
    "      2. 8 of them are shown in fullMonthSKU in two period.\n",
    "   - Thus, the current Capacity adjustment decision has no strong relationship with Qtysold of previous month.\n",
    "\n",
    "3. **For the fullmonth SKU, which in one period only, does them appear in atLeastoneMonthSKU of another period?**\n",
    "\n",
    "### Issued SKU"
   ]
  },
  {
   "cell_type": "code",
   "execution_count": 55,
   "metadata": {},
   "outputs": [],
   "source": [
    "import pandas as pd\n",
    "from pandas import ExcelWriter\n",
    "from datetime import datetime, timedelta\n",
    "import warnings\n",
    "warnings.filterwarnings('ignore')\n",
    "from Inventory_opti_helperFunction import *"
   ]
  },
  {
   "cell_type": "code",
   "execution_count": 56,
   "metadata": {},
   "outputs": [
    {
     "name": "stdout",
     "output_type": "stream",
     "text": [
      "[10, 20, 30, 15]\n"
     ]
    }
   ],
   "source": [
    "# Python code t get difference of two lists \n",
    "# Using set() \n",
    "def Diff(li1, li2): \n",
    "    return (list(set(li1) - set(li2))) \n",
    "  \n",
    "# Driver Code \n",
    "li1 = [10, 15, 20, 25, 30, 35, 40] \n",
    "li2 = [25, 40, 35, 34343] \n",
    "print(Diff(li1, li2)) "
   ]
  },
  {
   "cell_type": "markdown",
   "metadata": {},
   "source": [
    "### Compare two distribution report"
   ]
  },
  {
   "cell_type": "code",
   "execution_count": 57,
   "metadata": {},
   "outputs": [],
   "source": [
    "dist_df_Jul  = pd.read_csv(\"../data/RawData/Distribution Report - Auckland Departures - July19.csv\")\n",
    "dist_df_Sep  = pd.read_csv(\"../data/RawData/Distribution Report- Auckland Departures - Jan2020.csv\")\n",
    "dist_df_Sep = dist_df_Sep[['Mat ID', 'Name', '# POGs', 'Facings', 'Capacity']]\n",
    "dist_df_Jul = dist_df_Jul[['Mat ID', 'Name', '# POGs', 'Facings', 'Capacity']]"
   ]
  },
  {
   "cell_type": "code",
   "execution_count": 58,
   "metadata": {},
   "outputs": [
    {
     "data": {
      "text/plain": [
       "0.18409425625920472"
      ]
     },
     "execution_count": 58,
     "metadata": {},
     "output_type": "execute_result"
    }
   ],
   "source": [
    "125/679"
   ]
  },
  {
   "cell_type": "code",
   "execution_count": 59,
   "metadata": {},
   "outputs": [],
   "source": [
    "dist_df = pd.merge(dist_df_Jul, dist_df_Sep, on=['Mat ID', 'Name'])\n",
    "dist_df_adjust = dist_df[(dist_df['Capacity_x']!=dist_df['Capacity_y']) | (dist_df['Facings_x']!=dist_df['Facings_y'])]"
   ]
  },
  {
   "cell_type": "markdown",
   "metadata": {},
   "source": [
    "### Compare full month SKU"
   ]
  },
  {
   "cell_type": "code",
   "execution_count": 60,
   "metadata": {},
   "outputs": [],
   "source": [
    "df_SepNov  = pd.read_csv(\"../data/Output_Sep_108/fullMonth/qty_less_than_capacity_all_month_SKU.csv\")\n",
    "df_JulSep  = pd.read_csv(\"../data/Output_July_108/fullMonth/qty_less_than_capacity_all_month_SKU.csv\")"
   ]
  },
  {
   "cell_type": "code",
   "execution_count": 61,
   "metadata": {},
   "outputs": [
    {
     "name": "stdout",
     "output_type": "stream",
     "text": [
      "110 Unique SKU (fullmonth) in SepNov\n",
      "117 Unique SKU (fullmonth) in JulSep\n"
     ]
    }
   ],
   "source": [
    "SKU_SepNov  = df_SepNov['SKU'].unique()\n",
    "SKU_JulSep  = df_JulSep['SKU'].unique()\n",
    "\n",
    "print(\"{} Unique SKU (fullmonth) in SepNov\".format(len(SKU_SepNov)))\n",
    "print(\"{} Unique SKU (fullmonth) in JulSep\".format(len(SKU_JulSep)))"
   ]
  },
  {
   "cell_type": "code",
   "execution_count": 62,
   "metadata": {},
   "outputs": [],
   "source": [
    "# Python code t get difference of two lists \n",
    "# Using set() \n",
    "def Diff(li1: list, li2:list) -> list:\n",
    "    \"\"\"\n",
    "    get the different item shown in li1, not li2\n",
    "    \"\"\"\n",
    "    return (list(set(li1) - set(li2))) \n",
    "\n",
    "def test_SKU_has_6_obs(result):\n",
    "    \"\"\"\n",
    "    test each SKU has 6 observations\n",
    "    \"\"\"\n",
    "    lst = list(result.groupby('SKU')['MatID'].count())\n",
    "    assert len(set(lst)) == 1\n",
    "    assert lst[0] ==6"
   ]
  },
  {
   "cell_type": "markdown",
   "metadata": {},
   "source": [
    "#### Common SKU in two period"
   ]
  },
  {
   "cell_type": "code",
   "execution_count": 63,
   "metadata": {},
   "outputs": [
    {
     "name": "stdout",
     "output_type": "stream",
     "text": [
      "74 Unique SKU (fullmonth) in SepNov and JulSep\n"
     ]
    }
   ],
   "source": [
    "SKU_common = list(set(SKU_SepNov).intersection(SKU_JulSep))\n",
    "print(\"{} Unique SKU (fullmonth) in SepNov and JulSep\".format(len(SKU_common)))"
   ]
  },
  {
   "cell_type": "code",
   "execution_count": 64,
   "metadata": {},
   "outputs": [],
   "source": [
    "def save_fullMonthAllPeriodSKU(SKU_common: list, df_SepNov: pandas.core.frame.DataFrame, \n",
    "                              df_JulSep: pandas.core.frame.DataFrame):\n",
    "    \"\"\"\n",
    "    Save the common SKU, which full month in two period to CSV\n",
    "    \"\"\"\n",
    "\n",
    "    SKU_common_toDF = pd.DataFrame(SKU_common, columns = ['SKU'])\n",
    "    result = pd.concat([df_SepNov, df_JulSep]).merge(SKU_common_toDF, on = ['SKU'], how = 'inner') # select 74 common items \n",
    "    # test each item show 6 time in dataset\n",
    "    test_SKU_has_6_obs(result)\n",
    "    \n",
    "    # add StdQty_to_AvgQty column\n",
    "    # SepNov\n",
    "    AllatLeastOneMonth_SKU  = pd.read_csv(\"../data/Output_Sep_108/atLeastOneMonth/AllatLeastOneMonth_SKU.csv\")\n",
    "    AllatLeastOneMonth_SKU = AllatLeastOneMonth_SKU[['MatID', \n",
    "                                                     'StdQty_to_AvgQty']].rename(columns={\"StdQty_to_AvgQty\": \"StdQty_to_AvgQty_SepNov\"})\n",
    "    SKU_common_df = pd.merge(AllatLeastOneMonth_SKU, result, on = ['MatID'], how='right')\n",
    "    \n",
    "    # JulSep\n",
    "    AllatLeastOneMonth_SKU  = pd.read_csv(\"../data/Output_July_108/atLeastOneMonth/AllatLeastOneMonth_SKU.csv\")\n",
    "    AllatLeastOneMonth_SKU = AllatLeastOneMonth_SKU[['MatID', \n",
    "                                                     'StdQty_to_AvgQty']].rename(columns={\"StdQty_to_AvgQty\": \"StdQty_to_AvgQty_JulSep\"})\n",
    "    SKU_common_df = pd.merge(AllatLeastOneMonth_SKU, SKU_common_df, on = ['MatID'], how='right')\n",
    "    \n",
    "    SKU_common_df.to_csv('../data/Output_Sep_108/fullMonthAllPeriodSKU.csv', \n",
    "                                     index=False, encoding='utf-8')\n",
    "    "
   ]
  },
  {
   "cell_type": "code",
   "execution_count": 65,
   "metadata": {},
   "outputs": [],
   "source": [
    "save_fullMonthAllPeriodSKU(SKU_common, df_SepNov, df_JulSep)"
   ]
  },
  {
   "cell_type": "markdown",
   "metadata": {},
   "source": [
    "#### Difference bet two period\n",
    "check if these items "
   ]
  },
  {
   "cell_type": "code",
   "execution_count": 66,
   "metadata": {},
   "outputs": [],
   "source": [
    "SKU_common_df = pd.DataFrame(SKU_common , columns = ['Name']) "
   ]
  },
  {
   "cell_type": "code",
   "execution_count": 68,
   "metadata": {},
   "outputs": [],
   "source": [
    "SKU_inSepNot_notJulSep = Diff(SKU_SepNov, SKU_JulSep)"
   ]
  },
  {
   "cell_type": "code",
   "execution_count": 69,
   "metadata": {},
   "outputs": [],
   "source": [
    "SKU_inJulSep_notSepNov = Diff(SKU_JulSep, SKU_SepNov)"
   ]
  },
  {
   "cell_type": "markdown",
   "metadata": {},
   "source": [
    "### Question: Does fullmonth SKU (based on July-Sep) capacity decrease in new distribution report?\n",
    "\n",
    "There are 55 SKU's capacity decrease from July to Sep, but only 8 of them are shown in fullMonthSKU in July."
   ]
  },
  {
   "cell_type": "code",
   "execution_count": 70,
   "metadata": {},
   "outputs": [
    {
     "name": "stdout",
     "output_type": "stream",
     "text": [
      "68\n",
      "17\n",
      "8\n"
     ]
    }
   ],
   "source": [
    "dist_df_capacity_decrease = dist_df[(dist_df['Capacity_x'] > dist_df['Capacity_y'])]\n",
    "print(len(dist_df_capacity_decrease))\n",
    "\n",
    "# check items which are fullMonthS SKU in July\n",
    "check_fullMonth_july = pd.merge(dist_df_capacity_decrease, df_JulSep, left_on = ['Mat ID', 'Name'], \n",
    "                 right_on=['MatID', 'SKU'], how='inner')\n",
    "print(len(check_fullMonth_july['MatID'].unique())) # number of items find \n",
    "\n",
    "# check items which are fullMonthS SKU in 2 period\n",
    "check_common =  pd.merge(dist_df_capacity_decrease, SKU_common_df, on = 'Name', how='inner')\n",
    "print(len(check_common['Name'].unique())) # number of items find"
   ]
  },
  {
   "cell_type": "code",
   "execution_count": 71,
   "metadata": {},
   "outputs": [
    {
     "name": "stdout",
     "output_type": "stream",
     "text": [
      "55\n",
      "8\n",
      "7\n"
     ]
    }
   ],
   "source": [
    "dist_df_capacity_increase = dist_df[(dist_df['Capacity_x'] < dist_df['Capacity_y'])]\n",
    "print(len(dist_df_capacity_increase))\n",
    "\n",
    "check = pd.merge(dist_df_capacity_increase, df_JulSep, left_on = ['Mat ID', 'Name'], \n",
    "                 right_on=['MatID', 'SKU'], how='inner')\n",
    "print(len(check['MatID'].unique())) # number of items find \n",
    "\n",
    "# check items which are fullMonthS SKU in 2 period\n",
    "check_common =  pd.merge(dist_df_capacity_increase, SKU_common_df, on = 'Name', how='inner')\n",
    "print(len(check_common['Name'].unique())) # number of items find"
   ]
  },
  {
   "cell_type": "code",
   "execution_count": null,
   "metadata": {},
   "outputs": [],
   "source": []
  },
  {
   "cell_type": "code",
   "execution_count": null,
   "metadata": {},
   "outputs": [],
   "source": []
  }
 ],
 "metadata": {
  "kernelspec": {
   "display_name": "Python 3",
   "language": "python",
   "name": "python3"
  },
  "language_info": {
   "codemirror_mode": {
    "name": "ipython",
    "version": 3
   },
   "file_extension": ".py",
   "mimetype": "text/x-python",
   "name": "python",
   "nbconvert_exporter": "python",
   "pygments_lexer": "ipython3",
   "version": "3.7.3"
  }
 },
 "nbformat": 4,
 "nbformat_minor": 2
}
