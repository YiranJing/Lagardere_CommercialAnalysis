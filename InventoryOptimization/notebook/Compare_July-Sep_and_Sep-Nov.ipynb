{
 "cells": [
  {
   "cell_type": "markdown",
   "metadata": {},
   "source": [
    "# Compare Inventory ananlysis results in different period\n",
    "1. Find diffence bet two distribution reports.\n",
    "2. Check robust. (How many common SKU are there). \n",
    "\n",
    "\n",
    "## Questions:\n",
    "### Distrubution report\n",
    "1. How many (%) SKU has different facing or capacity in these two period?\n",
    "   - 125/679 = **18%**\n",
    "1. what reason leads to adjust in distribution report?\n",
    "\n",
    "### Full Month SKU\n",
    "1. The percentage of SKUs (full month), in both period? \n",
    "   - 74/110 = **67%**\n",
    "2. **Does fullmonth SKU (based on July-Sep) capacity decrease in new distribution report?**\n",
    "   - There are 55 SKU's capacity decrease from July to Sep, \n",
    "      1. only 8 of them are shown in fullMonthSKU in July\n",
    "      2. 7 of them are shown in fullMonthSKU in two period.\n",
    "   - (`Incorrect decision`): There are 68 SKU's capacity increase from July to Sep, \n",
    "      1. 17 of them are shown in fullMonthSKU in July. \n",
    "      2. 8 of them are shown in fullMonthSKU in two period.\n",
    "   - Thus, the current Capacity adjustment decision has no strong relationship with Qtysold of previous month.\n",
    "\n",
    "3. **For the fullmonth SKU, which in one period only, does them appear in atLeastoneMonthSKU of another period?**\n",
    "\n",
    "### Issued SKU"
   ]
  },
  {
   "cell_type": "code",
   "execution_count": 2,
   "metadata": {},
   "outputs": [],
   "source": [
    "import pandas as pd\n",
    "from pandas import ExcelWriter\n",
    "from datetime import datetime, timedelta\n",
    "import warnings\n",
    "warnings.filterwarnings('ignore')\n",
    "from Inventory_opti_helperFunction import *"
   ]
  },
  {
   "cell_type": "code",
   "execution_count": 7,
   "metadata": {},
   "outputs": [
    {
     "name": "stdout",
     "output_type": "stream",
     "text": [
      "[10, 20, 30, 15]\n"
     ]
    }
   ],
   "source": [
    "# Python code t get difference of two lists \n",
    "# Using set() \n",
    "def Diff(li1, li2): \n",
    "    return (list(set(li1) - set(li2))) \n",
    "  \n",
    "# Driver Code \n",
    "li1 = [10, 15, 20, 25, 30, 35, 40] \n",
    "li2 = [25, 40, 35, 34343] \n",
    "print(Diff(li1, li2))"
   ]
  },
  {
   "cell_type": "markdown",
   "metadata": {},
   "source": [
    "### Compare two distribution report"
   ]
  },
  {
   "cell_type": "code",
   "execution_count": 28,
   "metadata": {},
   "outputs": [],
   "source": [
    "dist_df_Sep  = pd.read_csv(\"../data/RawData/Distribution Report - Auckland Departures - July19.csv\")\n",
    "dist_df_Jul  = pd.read_csv(\"../data/RawData/Distribution Report- Auckland Departures - Jan2020.csv\")\n",
    "dist_df_Sep = dist_df_Sep[['Mat ID', 'Name', '# POGs', 'Facings', 'Capacity']]\n",
    "dist_df_Jul = dist_df_Jul[['Mat ID', 'Name', '# POGs', 'Facings', 'Capacity']]"
   ]
  },
  {
   "cell_type": "code",
   "execution_count": 62,
   "metadata": {},
   "outputs": [
    {
     "data": {
      "text/plain": [
       "0.18409425625920472"
      ]
     },
     "execution_count": 62,
     "metadata": {},
     "output_type": "execute_result"
    }
   ],
   "source": [
    "125/679"
   ]
  },
  {
   "cell_type": "code",
   "execution_count": 58,
   "metadata": {},
   "outputs": [
    {
     "name": "stdout",
     "output_type": "stream",
     "text": [
      "125\n"
     ]
    },
    {
     "data": {
      "text/html": [
       "<div>\n",
       "<style scoped>\n",
       "    .dataframe tbody tr th:only-of-type {\n",
       "        vertical-align: middle;\n",
       "    }\n",
       "\n",
       "    .dataframe tbody tr th {\n",
       "        vertical-align: top;\n",
       "    }\n",
       "\n",
       "    .dataframe thead th {\n",
       "        text-align: right;\n",
       "    }\n",
       "</style>\n",
       "<table border=\"1\" class=\"dataframe\">\n",
       "  <thead>\n",
       "    <tr style=\"text-align: right;\">\n",
       "      <th></th>\n",
       "      <th>Mat ID</th>\n",
       "      <th>Name</th>\n",
       "      <th># POGs_x</th>\n",
       "      <th>Facings_x</th>\n",
       "      <th>Capacity_x</th>\n",
       "      <th># POGs_y</th>\n",
       "      <th>Facings_y</th>\n",
       "      <th>Capacity_y</th>\n",
       "    </tr>\n",
       "  </thead>\n",
       "  <tbody>\n",
       "    <tr>\n",
       "      <th>1</th>\n",
       "      <td>100078996</td>\n",
       "      <td>APEROL 100CL 11%</td>\n",
       "      <td>1</td>\n",
       "      <td>3</td>\n",
       "      <td>12</td>\n",
       "      <td>1</td>\n",
       "      <td>2</td>\n",
       "      <td>8</td>\n",
       "    </tr>\n",
       "    <tr>\n",
       "      <th>3</th>\n",
       "      <td>10389</td>\n",
       "      <td>BAILEYS IRISH CREAM 100CL 17%</td>\n",
       "      <td>3</td>\n",
       "      <td>42</td>\n",
       "      <td>248</td>\n",
       "      <td>2</td>\n",
       "      <td>39</td>\n",
       "      <td>236</td>\n",
       "    </tr>\n",
       "    <tr>\n",
       "      <th>11</th>\n",
       "      <td>52812</td>\n",
       "      <td>CAMPARI BITTER 100CL 28.5%</td>\n",
       "      <td>1</td>\n",
       "      <td>3</td>\n",
       "      <td>12</td>\n",
       "      <td>1</td>\n",
       "      <td>2</td>\n",
       "      <td>8</td>\n",
       "    </tr>\n",
       "    <tr>\n",
       "      <th>12</th>\n",
       "      <td>100366392</td>\n",
       "      <td>CHAMBORD BLACK 70CL 16.5%</td>\n",
       "      <td>1</td>\n",
       "      <td>6</td>\n",
       "      <td>18</td>\n",
       "      <td>1</td>\n",
       "      <td>2</td>\n",
       "      <td>6</td>\n",
       "    </tr>\n",
       "    <tr>\n",
       "      <th>13</th>\n",
       "      <td>10316</td>\n",
       "      <td>COINTREAU 100CL 40%</td>\n",
       "      <td>3</td>\n",
       "      <td>16</td>\n",
       "      <td>54</td>\n",
       "      <td>2</td>\n",
       "      <td>13</td>\n",
       "      <td>42</td>\n",
       "    </tr>\n",
       "  </tbody>\n",
       "</table>\n",
       "</div>"
      ],
      "text/plain": [
       "       Mat ID                           Name  # POGs_x  Facings_x  Capacity_x  \\\n",
       "1   100078996               APEROL 100CL 11%         1          3          12   \n",
       "3       10389  BAILEYS IRISH CREAM 100CL 17%         3         42         248   \n",
       "11      52812     CAMPARI BITTER 100CL 28.5%         1          3          12   \n",
       "12  100366392      CHAMBORD BLACK 70CL 16.5%         1          6          18   \n",
       "13      10316            COINTREAU 100CL 40%         3         16          54   \n",
       "\n",
       "    # POGs_y  Facings_y  Capacity_y  \n",
       "1          1          2           8  \n",
       "3          2         39         236  \n",
       "11         1          2           8  \n",
       "12         1          2           6  \n",
       "13         2         13          42  "
      ]
     },
     "execution_count": 58,
     "metadata": {},
     "output_type": "execute_result"
    }
   ],
   "source": [
    "dist_df_adjust = pd.merge(dist_df_Jul, dist_df_Sep, on=['Mat ID', 'Name'])\n",
    "dist_df_adjust = dist_df[(dist_df['Capacity_x']!=dist_df['Capacity_y']) | (dist_df['Facings_x']!=dist_df['Facings_y'])]\n",
    "print(len(dist_df_adjust))\n",
    "dist_df_adjust.head()"
   ]
  },
  {
   "cell_type": "markdown",
   "metadata": {},
   "source": [
    "### Compare full month SKU"
   ]
  },
  {
   "cell_type": "code",
   "execution_count": 78,
   "metadata": {},
   "outputs": [],
   "source": [
    "df_SepNov  = pd.read_csv(\"../data/Output/fullMonth/qty_less_than_capacity_all_month_SKU.csv\")\n",
    "df_JulSep  = pd.read_csv(\"../data/Output_July/fullMonth/qty_less_than_capacity_all_month_SKU.csv\")"
   ]
  },
  {
   "cell_type": "code",
   "execution_count": 68,
   "metadata": {},
   "outputs": [
    {
     "name": "stdout",
     "output_type": "stream",
     "text": [
      "110 Unique SKU (fullmonth) in SepNov\n",
      "117 Unique SKU (fullmonth) in JulSep\n"
     ]
    }
   ],
   "source": [
    "SKU_SepNov  = df_SepNov['SKU'].unique()\n",
    "SKU_JulSep  = df_JulSep['SKU'].unique()\n",
    "\n",
    "print(\"{} Unique SKU (fullmonth) in SepNov\".format(len(SKU_SepNov)))\n",
    "print(\"{} Unique SKU (fullmonth) in JulSep\".format(len(SKU_JulSep)))"
   ]
  },
  {
   "cell_type": "code",
   "execution_count": 69,
   "metadata": {},
   "outputs": [],
   "source": [
    "# Python code t get difference of two lists \n",
    "# Using set() \n",
    "def Diff(li1: list, li2:list) -> list:\n",
    "    \"\"\"\n",
    "    get the different item shown in li1, not li2\n",
    "    \"\"\"\n",
    "    return (list(set(li1) - set(li2))) "
   ]
  },
  {
   "cell_type": "markdown",
   "metadata": {},
   "source": [
    "#### Common SKU in two period"
   ]
  },
  {
   "cell_type": "code",
   "execution_count": 71,
   "metadata": {},
   "outputs": [
    {
     "name": "stdout",
     "output_type": "stream",
     "text": [
      "74 Unique SKU (fullmonth) in SepNov and JulSep\n"
     ]
    }
   ],
   "source": [
    "SKU_common = list(set(SKU_SepNov).intersection(SKU_JulSep))\n",
    "print(\"{} Unique SKU (fullmonth) in SepNov and JulSep\".format(len(SKU_common)))"
   ]
  },
  {
   "cell_type": "code",
   "execution_count": 20,
   "metadata": {},
   "outputs": [
    {
     "data": {
      "text/plain": [
       "0.6727272727272727"
      ]
     },
     "execution_count": 20,
     "metadata": {},
     "output_type": "execute_result"
    }
   ],
   "source": [
    "74/110"
   ]
  },
  {
   "cell_type": "code",
   "execution_count": 95,
   "metadata": {},
   "outputs": [],
   "source": [
    "SKU_common_df = pd.DataFrame(SKU_common , columns = ['Name']) "
   ]
  },
  {
   "cell_type": "markdown",
   "metadata": {},
   "source": [
    "#### Difference bet two period\n",
    "check if these items "
   ]
  },
  {
   "cell_type": "code",
   "execution_count": 73,
   "metadata": {},
   "outputs": [],
   "source": [
    "SKU_inSepNot_notJulSep = Diff(SKU_SepNov_list, SKU_JulSep_list)"
   ]
  },
  {
   "cell_type": "code",
   "execution_count": 72,
   "metadata": {},
   "outputs": [],
   "source": [
    "SKU_inJulSep_notSepNov = Diff(SKU_JulSep_list, SKU_SepNov_list)"
   ]
  },
  {
   "cell_type": "markdown",
   "metadata": {},
   "source": [
    "### Question: Does fullmonth SKU (based on July-Sep) capacity decrease in new distribution report?\n",
    "\n",
    "There are 55 SKU's capacity decrease from July to Sep, but only 8 of them are shown in fullMonthSKU in July."
   ]
  },
  {
   "cell_type": "code",
   "execution_count": 100,
   "metadata": {},
   "outputs": [
    {
     "name": "stdout",
     "output_type": "stream",
     "text": [
      "55\n",
      "8\n",
      "7\n"
     ]
    }
   ],
   "source": [
    "dist_df_capacity_decrease = dist_df[(dist_df['Capacity_x'] > dist_df['Capacity_y'])]\n",
    "print(len(dist_df_capacity_decrease))\n",
    "\n",
    "# check items which are fullMonthS SKU in July\n",
    "check_fullMonth_july = pd.merge(dist_df_capacity_decrease, df_JulSep, left_on = ['Mat ID', 'Name'], \n",
    "                 right_on=['MatID', 'SKU'], how='inner')\n",
    "print(len(check_fullMonth_july['MatID'].unique())) # number of items find \n",
    "\n",
    "# check items which are fullMonthS SKU in 2 period\n",
    "check_common =  pd.merge(dist_df_capacity_decrease, SKU_common_df, on = 'Name', how='inner')\n",
    "print(len(check_common['Name'].unique())) # number of items find"
   ]
  },
  {
   "cell_type": "code",
   "execution_count": 101,
   "metadata": {},
   "outputs": [
    {
     "name": "stdout",
     "output_type": "stream",
     "text": [
      "68\n",
      "17\n",
      "8\n"
     ]
    }
   ],
   "source": [
    "dist_df_capacity_increase = dist_df[(dist_df['Capacity_x'] < dist_df['Capacity_y'])]\n",
    "print(len(dist_df_capacity_increase))\n",
    "\n",
    "check = pd.merge(dist_df_capacity_increase, df_JulSep, left_on = ['Mat ID', 'Name'], \n",
    "                 right_on=['MatID', 'SKU'], how='inner')\n",
    "print(len(check['MatID'].unique())) # number of items find \n",
    "\n",
    "# check items which are fullMonthS SKU in 2 period\n",
    "check_common =  pd.merge(dist_df_capacity_increase, SKU_common_df, on = 'Name', how='inner')\n",
    "print(len(check_common['Name'].unique())) # number of items find"
   ]
  },
  {
   "cell_type": "code",
   "execution_count": null,
   "metadata": {},
   "outputs": [],
   "source": []
  },
  {
   "cell_type": "code",
   "execution_count": null,
   "metadata": {},
   "outputs": [],
   "source": []
  },
  {
   "cell_type": "code",
   "execution_count": null,
   "metadata": {},
   "outputs": [],
   "source": []
  },
  {
   "cell_type": "code",
   "execution_count": null,
   "metadata": {},
   "outputs": [],
   "source": []
  },
  {
   "cell_type": "code",
   "execution_count": null,
   "metadata": {},
   "outputs": [],
   "source": []
  },
  {
   "cell_type": "code",
   "execution_count": null,
   "metadata": {},
   "outputs": [],
   "source": []
  },
  {
   "cell_type": "code",
   "execution_count": null,
   "metadata": {},
   "outputs": [],
   "source": []
  },
  {
   "cell_type": "code",
   "execution_count": null,
   "metadata": {},
   "outputs": [],
   "source": []
  }
 ],
 "metadata": {
  "kernelspec": {
   "display_name": "Python 3",
   "language": "python",
   "name": "python3"
  },
  "language_info": {
   "codemirror_mode": {
    "name": "ipython",
    "version": 3
   },
   "file_extension": ".py",
   "mimetype": "text/x-python",
   "name": "python",
   "nbconvert_exporter": "python",
   "pygments_lexer": "ipython3",
   "version": "3.7.3"
  }
 },
 "nbformat": 4,
 "nbformat_minor": 2
}
